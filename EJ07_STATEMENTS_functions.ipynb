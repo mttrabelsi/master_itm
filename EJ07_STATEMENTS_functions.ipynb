{
  "cells": [
    {
      "cell_type": "markdown",
      "metadata": {
        "id": "view-in-github",
        "colab_type": "text"
      },
      "source": [
        "<a href=\"https://colab.research.google.com/github/mttrabelsi/master_itm/blob/main/EJ07_STATEMENTS_functions.ipynb\" target=\"_parent\"><img src=\"https://colab.research.google.com/assets/colab-badge.svg\" alt=\"Open In Colab\"/></a>"
      ]
    },
    {
      "cell_type": "markdown",
      "metadata": {
        "id": "Rs-s7EMpWX_l"
      },
      "source": [
        "## Working with functions"
      ]
    },
    {
      "cell_type": "markdown",
      "metadata": {
        "id": "gdrn06U3WX_m"
      },
      "source": [
        "Create a function that receives a list of numeric values (positive and negative) and returns a second list of values greater than zero.\n",
        "with the values greater than zero"
      ]
    },
    {
      "cell_type": "code",
      "execution_count": 1,
      "metadata": {
        "colab": {
          "base_uri": "https://localhost:8080/"
        },
        "id": "YPRZLplxWX_n",
        "outputId": "cee0dedd-f43f-4c9f-f2f7-df34ce12856b"
      },
      "outputs": [
        {
          "output_type": "stream",
          "name": "stdout",
          "text": [
            "[1, 2, 3, 5]\n"
          ]
        }
      ],
      "source": [
        "lis1 = [1, -1, 2, 3, -2,5]\n",
        "lis2 = []\n",
        "for val in lis1:\n",
        "    if val > 0:\n",
        "        lis2.append(val)\n",
        "        lis2.sort()\n",
        "print(lis2)"
      ]
    },
    {
      "cell_type": "code",
      "execution_count": 2,
      "metadata": {
        "colab": {
          "base_uri": "https://localhost:8080/"
        },
        "id": "Ffd-BfoOWX_o",
        "outputId": "1985fab4-cf4b-4f8d-d1d7-0606a72cd64a"
      },
      "outputs": [
        {
          "output_type": "execute_result",
          "data": {
            "text/plain": [
              "[1, 2, 3, 5]"
            ]
          },
          "metadata": {},
          "execution_count": 2
        }
      ],
      "source": [
        "def positive_values(lis):\n",
        "    lis2 = []\n",
        "    for val in lis:\n",
        "        if val > 0:\n",
        "            lis2.append(val)\n",
        "    return lis2\n",
        "    lis1 = [1, 2, -3, -6, 8,7]\n",
        "positive_values(lis1)"
      ]
    },
    {
      "cell_type": "markdown",
      "metadata": {
        "id": "Kidc0LtCWX_o"
      },
      "source": [
        "Create a function that receives a dictionary like the following:\n",
        "customer = {'cod_customer': 'A100', 'contract_type': 'A', 'invoice': 50}\n",
        "\n",
        "The contract_type field can take the values; 'A', 'B' or 'C' and the invoice is an integer greater than zero.\n",
        "The function must validate that if the contract_type is 'A' the invoice cannot be greater than 50.\n",
        "If the validation is true, return True, otherwise False (contract_type is 'A' and invoice > 50)."
      ]
    },
    {
      "cell_type": "code",
      "execution_count": null,
      "metadata": {
        "id": "8H9sMVXlWX_o"
      },
      "outputs": [],
      "source": []
    },
    {
      "cell_type": "code",
      "execution_count": null,
      "metadata": {
        "id": "WwwJ_STJWX_o"
      },
      "outputs": [],
      "source": []
    },
    {
      "cell_type": "markdown",
      "metadata": {
        "id": "lXudxinGWX_o"
      },
      "source": [
        "Create a function to validate with the above function the following list:\n",
        "customers = [   \n",
        "{'cod_customer': 'A100', 'contract_type': 'A', 'invoice': 51},  \n",
        "{'cod_customer': 'A100', 'contract_type': 'A', 'invoice': 22},  \n",
        "{'cod_customer': 'A100', 'contract_type': 'B', 'invoice': 71},  \n",
        "{'cod_customer': 'A100', 'contract_type': 'C', 'invoice': 51},  \n",
        "{'cod_customer': 'A100', 'contract_type': 'A', 'invoice': 61}  \n",
        "   ]   \n",
        "The result of each validation add it to each dictionary in a field named 'validation'."
      ]
    },
    {
      "cell_type": "code",
      "execution_count": null,
      "metadata": {
        "id": "whpqPhybWX_p"
      },
      "outputs": [],
      "source": []
    },
    {
      "cell_type": "code",
      "execution_count": null,
      "metadata": {
        "id": "HXFCX_kKWX_p"
      },
      "outputs": [],
      "source": []
    },
    {
      "cell_type": "code",
      "execution_count": null,
      "metadata": {
        "id": "mLkWZXRtWX_p"
      },
      "outputs": [],
      "source": []
    },
    {
      "cell_type": "code",
      "execution_count": null,
      "metadata": {
        "id": "tZMuQlvRWX_p"
      },
      "outputs": [],
      "source": []
    }
  ],
  "metadata": {
    "kernelspec": {
      "display_name": "Python 3 (ipykernel)",
      "language": "python",
      "name": "python3"
    },
    "language_info": {
      "codemirror_mode": {
        "name": "ipython",
        "version": 3
      },
      "file_extension": ".py",
      "mimetype": "text/x-python",
      "name": "python",
      "nbconvert_exporter": "python",
      "pygments_lexer": "ipython3",
      "version": "3.10.9"
    },
    "colab": {
      "provenance": [],
      "include_colab_link": true
    }
  },
  "nbformat": 4,
  "nbformat_minor": 0
}